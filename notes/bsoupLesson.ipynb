{
 "cells": [
  {
   "cell_type": "code",
   "execution_count": 1,
   "id": "eec012d6",
   "metadata": {},
   "outputs": [],
   "source": [
    "import requests\n",
    "from bs4 import BeautifulSoup"
   ]
  },
  {
   "cell_type": "code",
   "execution_count": 3,
   "id": "c7e055e2",
   "metadata": {},
   "outputs": [],
   "source": [
    "r = requests.get(\"http://www.pyclass.com/example.html\", headers={'User-agent': 'Mozilla/5.0 (X11; Ubuntu; Linux x86_64; rv:61.0) Gecko/20100101 Firefox/61.0'})\n",
    "\n",
    "c = r.content"
   ]
  },
  {
   "cell_type": "code",
   "execution_count": 4,
   "id": "2d1df58b",
   "metadata": {},
   "outputs": [
    {
     "data": {
      "text/plain": [
       "b'<!DOCTYPE html>\\n<html>\\n<head>\\n<style>\\ndiv.cities {\\n    background-color:black;\\n    color:white;\\n    margin:20px;\\n    padding:20px;\\n} \\n</style>\\n</head>\\n<body>\\n\\n<h1 align=\"center\"> Here are three big cities </h1>\\n\\n<div class=\"cities\">\\n<h2>London</h2>\\n<p>London is the capital of England and it\\'s been a British settlement since 2000 years ago. </p>\\n</div>\\n\\n<div class=\"cities\">\\n<h2>Paris</h2>\\n<p>Paris is the capital city of France. It was declared capital since 508.</p>\\n</div>\\n\\n<div class=\"cities\">\\n<h2>Tokyo</h2>\\n<p>Tokyo is the capital of Japan and one of the most populated cities in the world.</p>\\n</div>\\n\\n</body>\\n</html>'"
      ]
     },
     "execution_count": 4,
     "metadata": {},
     "output_type": "execute_result"
    }
   ],
   "source": [
    "c"
   ]
  },
  {
   "cell_type": "code",
   "execution_count": 7,
   "id": "2e78218f",
   "metadata": {},
   "outputs": [],
   "source": [
    "soup = BeautifulSoup( c , \"html.parser\" )"
   ]
  },
  {
   "cell_type": "code",
   "execution_count": null,
   "id": "e604ef91",
   "metadata": {},
   "outputs": [],
   "source": [
    "# print( soup.prettify() ) \n",
    "# is not the best way to see page, use chrome inspect instead"
   ]
  },
  {
   "cell_type": "code",
   "execution_count": 12,
   "id": "3c95765f",
   "metadata": {},
   "outputs": [],
   "source": [
    "all = soup.find_all( \n",
    "    \"div\" , \n",
    "    { \"class\" : \"cities\" } )  # list of div cities"
   ]
  },
  {
   "cell_type": "code",
   "execution_count": 14,
   "id": "ddbbd791",
   "metadata": {},
   "outputs": [
    {
     "data": {
      "text/plain": [
       "<div class=\"cities\">\n",
       "<h2>London</h2>\n",
       "<p>London is the capital of England and it's been a British settlement since 2000 years ago. </p>\n",
       "</div>"
      ]
     },
     "execution_count": 14,
     "metadata": {},
     "output_type": "execute_result"
    }
   ],
   "source": [
    "first = all[ 0 ]\n",
    "first"
   ]
  },
  {
   "cell_type": "code",
   "execution_count": 15,
   "id": "04f22208",
   "metadata": {},
   "outputs": [
    {
     "data": {
      "text/plain": [
       "'London'"
      ]
     },
     "execution_count": 15,
     "metadata": {},
     "output_type": "execute_result"
    }
   ],
   "source": [
    "first.find_all( \"h2\" )[ 0 ].text"
   ]
  },
  {
   "cell_type": "code",
   "execution_count": 23,
   "id": "09801dbc",
   "metadata": {},
   "outputs": [
    {
     "name": "stdout",
     "output_type": "stream",
     "text": [
      "London\n",
      "Paris\n",
      "Tokyo\n",
      "\n",
      "London is the capital of England and it's been a British settlement since 2000 years ago. \n",
      "Paris is the capital city of France. It was declared capital since 508.\n",
      "Tokyo is the capital of Japan and one of the most populated cities in the world.\n"
     ]
    }
   ],
   "source": [
    "for item in all:\n",
    "    print( item.find_all( \"h2\" )[ 0 ].text )\n",
    "    \n",
    "print( \"\" )\n",
    "\n",
    "for item in all:\n",
    "    print( item.find_all( \"p\" )[ 0 ].text )"
   ]
  }
 ],
 "metadata": {
  "kernelspec": {
   "display_name": "Python 3",
   "language": "python",
   "name": "python3"
  },
  "language_info": {
   "codemirror_mode": {
    "name": "ipython",
    "version": 3
   },
   "file_extension": ".py",
   "mimetype": "text/x-python",
   "name": "python",
   "nbconvert_exporter": "python",
   "pygments_lexer": "ipython3",
   "version": "3.9.5"
  }
 },
 "nbformat": 4,
 "nbformat_minor": 5
}
